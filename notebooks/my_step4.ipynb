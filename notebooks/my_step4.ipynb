{
 "cells": [
  {
   "cell_type": "markdown",
   "metadata": {},
   "source": [
    "# Step 4 - Burgers' Equation"
   ]
  },
  {
   "cell_type": "markdown",
   "metadata": {},
   "source": [
    "#### Differential equation to be solved"
   ]
  },
  {
   "cell_type": "markdown",
   "metadata": {},
   "source": [
    "Solve equation\n",
    "\n",
    "$$\n",
    "\\frac{\\partial u(t, x)}{\\partial t} + u(t, x) \\, \\frac{\\partial u(t, x)}{\\partial x} = \n",
    "\\nu \\, \\frac{\\partial^{2} u(t, x)}{\\partial x^{2}}\n",
    "$$\n",
    "\n",
    "by using forward differences in time and central differences in space: "
   ]
  },
  {
   "cell_type": "markdown",
   "metadata": {},
   "source": [
    "$$\n",
    "\\frac{\\partial u(t, x)}{\\partial t} \\approx \\frac{u^{n+1}_{i} - u^{n}_{i}}{\\Delta t} \\quad ,\n",
    "$$"
   ]
  },
  {
   "cell_type": "markdown",
   "metadata": {},
   "source": [
    "$$\n",
    "\\frac{\\partial u(t, x)}{\\partial x} \\approx \\frac{u^{n}_{i} - u^{n}_{i-1}}{\\Delta x} \\quad ,\n",
    "$$"
   ]
  },
  {
   "cell_type": "markdown",
   "metadata": {},
   "source": [
    "$$\n",
    "\\frac{\\partial^{2} u(t, x)}{\\partial x^{2}} \\approx \\frac{u^{n}_{i+1} - 2 \\, u^{n}_{i} + u^{n}_{i-1}}{\\Delta x^{2}} \\quad ,\n",
    "$$"
   ]
  },
  {
   "cell_type": "markdown",
   "metadata": {},
   "source": [
    "where $u^{n}_{i} \\equiv u(t_{n}, x_{i})$. The resulting discrete equation is:\n",
    "\n",
    "$$\n",
    "u^{n+1}_{i} = u^{n}_{i} \n",
    "- u^{n}_{i} \\, \\frac{\\Delta t}{\\Delta x} \\left( u^{n}_{i} - u^{n}_{i-1} \\right)\n",
    "+ \\nu \\, \\frac{\\Delta t}{\\Delta x^{2}} \\left( u^{n}_{i+1} - 2 \\, u^{n}_{i} + u^{n}_{i-1} \\right) \\quad .\n",
    "$$"
   ]
  },
  {
   "cell_type": "markdown",
   "metadata": {},
   "source": [
    "#### Initial conditions"
   ]
  },
  {
   "cell_type": "markdown",
   "metadata": {},
   "source": [
    "At $t = 0$, \n",
    "\n",
    "$\n",
    "u(t = 0, x) = u_{0}(x) \\quad ,\n",
    "$\n",
    "\n",
    "where\n",
    "\n",
    "$$\n",
    "u_{0}(x) = -\\frac{2 \\nu}{\\phi(x)} \\frac{\\partial \\phi(x)}{\\partial x} + 4\n",
    "$$\n",
    "\n",
    "and\n",
    "\n",
    "$$\n",
    "\\phi(x) = \\exp \\bigg(\\frac{-x^2}{4 \\nu} \\bigg) + \\exp \\bigg(\\frac{-(x-2 \\pi)^2}{4 \\nu} \\bigg) \\quad .\n",
    "$$"
   ]
  },
  {
   "cell_type": "markdown",
   "metadata": {},
   "source": [
    "#### (Periodic) Boundary conditions"
   ]
  },
  {
   "cell_type": "markdown",
   "metadata": {},
   "source": [
    "$u(t, 0) = u(t, 2 \\pi)$ ."
   ]
  },
  {
   "cell_type": "markdown",
   "metadata": {},
   "source": [
    "### Import required stuff"
   ]
  },
  {
   "cell_type": "code",
   "execution_count": 1,
   "metadata": {},
   "outputs": [
    {
     "ename": "ModuleNotFoundError",
     "evalue": "No module named 'simpy'",
     "output_type": "error",
     "traceback": [
      "\u001b[0;31m---------------------------------------------------------------------------\u001b[0m",
      "\u001b[0;31mModuleNotFoundError\u001b[0m                       Traceback (most recent call last)",
      "\u001b[0;32m<ipython-input-1-1dade2829a7d>\u001b[0m in \u001b[0;36m<module>\u001b[0;34m()\u001b[0m\n\u001b[1;32m      1\u001b[0m \u001b[0;32mimport\u001b[0m \u001b[0mnumpy\u001b[0m \u001b[0;32mas\u001b[0m \u001b[0mnp\u001b[0m\u001b[0;34m\u001b[0m\u001b[0;34m\u001b[0m\u001b[0m\n\u001b[1;32m      2\u001b[0m \u001b[0;32mimport\u001b[0m \u001b[0mmatplotlib\u001b[0m\u001b[0;34m.\u001b[0m\u001b[0mpyplot\u001b[0m \u001b[0;32mas\u001b[0m \u001b[0mplt\u001b[0m\u001b[0;34m\u001b[0m\u001b[0;34m\u001b[0m\u001b[0m\n\u001b[0;32m----> 3\u001b[0;31m \u001b[0;32mimport\u001b[0m \u001b[0msimpy\u001b[0m\u001b[0;34m\u001b[0m\u001b[0;34m\u001b[0m\u001b[0m\n\u001b[0m",
      "\u001b[0;31mModuleNotFoundError\u001b[0m: No module named 'simpy'"
     ]
    }
   ],
   "source": [
    "import numpy as np\n",
    "import matplotlib.pyplot as plt\n",
    "import simpy"
   ]
  },
  {
   "cell_type": "markdown",
   "metadata": {},
   "source": [
    "### Implementation"
   ]
  },
  {
   "cell_type": "code",
   "execution_count": null,
   "metadata": {},
   "outputs": [],
   "source": [
    "def diffusion_1D(u0, dt, nt, dx, nx, v):\n",
    "    \n",
    "    u = np.copy(u0)\n",
    "    \n",
    "    cte = v*dt/dx/dx\n",
    "\n",
    "    # loop in time\n",
    "    for n in range(nt):\n",
    "        un = u.copy()\n",
    "        # loop in space\n",
    "        for i in range(1, nx-1): # iterate from 1 to nx\n",
    "            u[i] = un[i] + cte * (un[i+1] - 2*un[i] + un[i-1])\n",
    "    \n",
    "    return u"
   ]
  },
  {
   "cell_type": "code",
   "execution_count": null,
   "metadata": {},
   "outputs": [],
   "source": [
    "nt = 500\n",
    "dt = 0.001\n",
    "v = 0.1\n",
    "\n",
    "nx = [20, 40, 60, 80, 100, 120]\n",
    "u = []\n",
    "x = []\n",
    "u0 = []\n",
    "\n",
    "for nxi in nx:\n",
    "    dx = 2/(nxi - 1)\n",
    "    u0i = np.ones(nxi)\n",
    "    u0i[int(0.5/dx):int(1/dx)+1] = 2\n",
    "    u0.append(u0i)\n",
    "    u.append(diffusion_1D(u0i, dt, nt, dx, nxi, v))\n",
    "    x.append(np.linspace(0, 2, nxi))"
   ]
  },
  {
   "cell_type": "code",
   "execution_count": null,
   "metadata": {},
   "outputs": [],
   "source": [
    "plt.figure(figsize=(12,8))\n",
    "\n",
    "for i, (nxi, xi, u0i, ui) in enumerate(zip(nx, x, u0, u)):\n",
    "\n",
    "    plt.subplot(2,3,i+1)\n",
    "    plt.title('nx = %d' % (nxi))\n",
    "    plt.plot(xi, u0i, '-b')\n",
    "    plt.plot(xi, ui, '--r')\n",
    "    plt.grid()\n",
    "\n",
    "plt.tight_layout()\n",
    "plt.show()"
   ]
  },
  {
   "cell_type": "code",
   "execution_count": null,
   "metadata": {},
   "outputs": [],
   "source": []
  }
 ],
 "metadata": {
  "kernelspec": {
   "display_name": "Python 3",
   "language": "python",
   "name": "python3"
  },
  "language_info": {
   "codemirror_mode": {
    "name": "ipython",
    "version": 3
   },
   "file_extension": ".py",
   "mimetype": "text/x-python",
   "name": "python",
   "nbconvert_exporter": "python",
   "pygments_lexer": "ipython3",
   "version": "3.6.8"
  }
 },
 "nbformat": 4,
 "nbformat_minor": 2
}
